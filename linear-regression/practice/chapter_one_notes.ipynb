{
 "cells": [
  {
   "cell_type": "markdown",
   "id": "ef3c8709",
   "metadata": {},
   "source": [
    "In machine Learning we provide outcomes for the model to learn and the model will extract the features that will help it understand the task and perform the action."
   ]
  },
  {
   "cell_type": "markdown",
   "id": "b846838e",
   "metadata": {},
   "source": [
    "X - represents our feature matrix \n",
    "y - represents our target output"
   ]
  },
  {
   "cell_type": "markdown",
   "id": "a05dc030",
   "metadata": {},
   "source": [
    "ML Development process\n",
    "\n",
    "- Understand the business problem\n",
    "- Decide if ML is the right tool to do the job\n",
    "- Understand the data, its reliablity \n",
    "- Prepare the data [Cleaning and building a pipline to convert it to a tabluar form]\n",
    "- Modeling - select the best model taht works for you and fitting it to our need\n",
    "- Evalauation - accuracy and precision and other factors\n",
    "- Deployment"
   ]
  },
  {
   "cell_type": "markdown",
   "id": "3e03b774",
   "metadata": {},
   "source": [
    "Multiple comparisons problem (also called the multiplicity problem), It states: when you test many hypotheses (or check many validation splits, features, or models), the chance of seeing a “significant” result by random chance increases. That makes the observed performance in training/validation look better than the true generalization."
   ]
  },
  {
   "cell_type": "markdown",
   "id": "a32c406c",
   "metadata": {},
   "source": [
    "## Numpy Integration"
   ]
  },
  {
   "cell_type": "code",
   "execution_count": 1,
   "id": "e73febb9",
   "metadata": {},
   "outputs": [],
   "source": [
    "import numpy as np "
   ]
  },
  {
   "cell_type": "markdown",
   "id": "5610c358",
   "metadata": {},
   "source": [
    "Single Dimension Array"
   ]
  },
  {
   "cell_type": "code",
   "execution_count": 2,
   "id": "614eaeea",
   "metadata": {},
   "outputs": [
    {
     "data": {
      "text/plain": [
       "array([0., 0., 0., 0., 0., 0., 0.])"
      ]
     },
     "execution_count": 2,
     "metadata": {},
     "output_type": "execute_result"
    }
   ],
   "source": [
    "np.zeros(7)"
   ]
  },
  {
   "cell_type": "code",
   "execution_count": 3,
   "id": "484febdc",
   "metadata": {},
   "outputs": [
    {
     "data": {
      "text/plain": [
       "array([5.4, 5.4, 5.4, 5.4, 5.4, 5.4, 5.4, 5.4, 5.4, 5.4])"
      ]
     },
     "execution_count": 3,
     "metadata": {},
     "output_type": "execute_result"
    }
   ],
   "source": [
    "np.full(10,5.4)"
   ]
  },
  {
   "cell_type": "code",
   "execution_count": 4,
   "id": "979bba7d",
   "metadata": {},
   "outputs": [
    {
     "data": {
      "text/plain": [
       "array([12,  3,  4, 54,  6])"
      ]
     },
     "execution_count": 4,
     "metadata": {},
     "output_type": "execute_result"
    }
   ],
   "source": [
    "# From array to np\n",
    "\n",
    "my_np_array = np.array([12,3,4,54,6])\n",
    "\n",
    "my_np_array"
   ]
  },
  {
   "cell_type": "code",
   "execution_count": 6,
   "id": "e3875f5c",
   "metadata": {},
   "outputs": [
    {
     "data": {
      "text/plain": [
       "array([1, 3, 5, 7, 9])"
      ]
     },
     "execution_count": 6,
     "metadata": {},
     "output_type": "execute_result"
    }
   ],
   "source": [
    "my_range = np.arange(1,11,2)\n",
    "\n",
    "my_range"
   ]
  },
  {
   "cell_type": "code",
   "execution_count": 7,
   "id": "f066c5cd",
   "metadata": {},
   "outputs": [
    {
     "data": {
      "text/plain": [
       "array([ 1. ,  5.5, 10. ])"
      ]
     },
     "execution_count": 7,
     "metadata": {},
     "output_type": "execute_result"
    }
   ],
   "source": [
    "my_lin_space = np.linspace(1,10,3)\n",
    "my_lin_space"
   ]
  },
  {
   "cell_type": "markdown",
   "id": "b2c96513",
   "metadata": {},
   "source": [
    "Multi Dimensional arrays"
   ]
  },
  {
   "cell_type": "code",
   "execution_count": 9,
   "id": "6e62eb24",
   "metadata": {},
   "outputs": [
    {
     "name": "stdout",
     "output_type": "stream",
     "text": [
      "[[1 2]\n",
      " [3 4]] (2, 2) 2\n"
     ]
    }
   ],
   "source": [
    "# Two dimensions\n",
    "\n",
    "two_dim_ar = np.array([[1,2],[3,4]])\n",
    "print(two_dim_ar,two_dim_ar.shape, two_dim_ar[0,1])"
   ]
  },
  {
   "cell_type": "code",
   "execution_count": 5,
   "id": "cb2349eb",
   "metadata": {},
   "outputs": [
    {
     "data": {
      "text/plain": [
       "(array([[[1, 2, 3],\n",
       "         [4, 5, 6],\n",
       "         [6, 7, 8]]]),\n",
       " (1, 3, 3),\n",
       " 3)"
      ]
     },
     "execution_count": 5,
     "metadata": {},
     "output_type": "execute_result"
    }
   ],
   "source": [
    "# Multi dimensional arrays\n",
    "\n",
    "multi_dim = np.array([[[1,2,3],[4,5,6],[6,7,8]]])\n",
    "\n",
    "multi_dim, multi_dim.shape, multi_dim.ndim"
   ]
  },
  {
   "cell_type": "code",
   "execution_count": 12,
   "id": "32daafe0",
   "metadata": {},
   "outputs": [
    {
     "data": {
      "text/plain": [
       "array([[2, 5, 7]])"
      ]
     },
     "execution_count": 12,
     "metadata": {},
     "output_type": "execute_result"
    }
   ],
   "source": [
    "# Getting elements with row and columns\n",
    "\n",
    "# With row\n",
    "\n",
    "multi_dim[:,1,:]\n",
    "\n",
    "# Getting columns\n",
    "multi_dim[:,:,1]"
   ]
  },
  {
   "cell_type": "code",
   "execution_count": 12,
   "id": "a88c9ae2-cfdd-42dc-96ff-ab906cb9be41",
   "metadata": {},
   "outputs": [
    {
     "data": {
      "text/plain": [
       "array([[0.4359949 , 0.02592623, 0.54966248, 0.43532239],\n",
       "       [0.4203678 , 0.33033482, 0.20464863, 0.61927097],\n",
       "       [0.29965467, 0.26682728, 0.62113383, 0.52914209]])"
      ]
     },
     "execution_count": 12,
     "metadata": {},
     "output_type": "execute_result"
    }
   ],
   "source": [
    "# Working with random values\n",
    "random_value = np.random.seed(2)\n",
    "random_value = np.random.rand(3,4)\n",
    "random_value"
   ]
  },
  {
   "cell_type": "code",
   "execution_count": 14,
   "id": "26001739-559c-4bca-be05-93bca2b127b7",
   "metadata": {},
   "outputs": [
    {
     "data": {
      "text/plain": [
       "array([[ 6,  7, 36,  6],\n",
       "       [ 8, 27,  7,  9],\n",
       "       [34, 22, 34,  5]])"
      ]
     },
     "execution_count": 14,
     "metadata": {},
     "output_type": "execute_result"
    }
   ],
   "source": [
    "random_int = np.random.randint(low=3,high=40,size=(3,4))\n",
    "random_int"
   ]
  },
  {
   "cell_type": "code",
   "execution_count": 15,
   "id": "f573f054",
   "metadata": {},
   "outputs": [
    {
     "data": {
      "text/plain": [
       "array([2, 3, 4])"
      ]
     },
     "execution_count": 15,
     "metadata": {},
     "output_type": "execute_result"
    }
   ],
   "source": [
    "a = np.arange(5)\n",
    "\n",
    "b = np.random.randint(1,5, size=(5))\n",
    "\n",
    "a[a>b]\n"
   ]
  },
  {
   "cell_type": "code",
   "execution_count": 19,
   "id": "5a5ddbf6",
   "metadata": {},
   "outputs": [],
   "source": [
    "a.min()\n",
    "a.sum()\n",
    "a.sort()"
   ]
  },
  {
   "cell_type": "markdown",
   "id": "b08c091f",
   "metadata": {},
   "source": [
    "## Linear Algebra"
   ]
  },
  {
   "cell_type": "code",
   "execution_count": 25,
   "id": "088a80a4",
   "metadata": {},
   "outputs": [
    {
     "data": {
      "text/plain": [
       "np.int64(68)"
      ]
     },
     "execution_count": 25,
     "metadata": {},
     "output_type": "execute_result"
    }
   ],
   "source": [
    "my_arr = np.array([2,3,4,5])\n",
    "\n",
    "my_sec = np.array([3,4,5,6])\n",
    "\n",
    "\n",
    "np.matmul(my_arr,my_sec)"
   ]
  }
 ],
 "metadata": {
  "kernelspec": {
   "display_name": "Python 3",
   "language": "python",
   "name": "python3"
  },
  "language_info": {
   "codemirror_mode": {
    "name": "ipython",
    "version": 3
   },
   "file_extension": ".py",
   "mimetype": "text/x-python",
   "name": "python",
   "nbconvert_exporter": "python",
   "pygments_lexer": "ipython3",
   "version": "3.12.1"
  }
 },
 "nbformat": 4,
 "nbformat_minor": 5
}
